{
 "cells": [
  {
   "cell_type": "code",
   "execution_count": 62,
   "metadata": {
    "colab": {},
    "colab_type": "code",
    "id": "F-6bE0dYcBgA"
   },
   "outputs": [],
   "source": [
    "## Import stuff\n",
    " \n",
    "import numpy as np\n",
    "from sklearn import datasets, linear_model, metrics"
   ]
  },
  {
   "cell_type": "code",
   "execution_count": 63,
   "metadata": {
    "colab": {},
    "colab_type": "code",
    "id": "gK71NIhMcEs5"
   },
   "outputs": [],
   "source": [
    "## Load the diabetes dataset\n",
    "diabetes = datasets.load_diabetes()\n",
    "diabetes_X = diabetes.data # matrix of dimensions 442x10\n",
    " \n",
    "# Split the data into training/testing sets\n",
    "diabetes_X_train = diabetes_X[:-20]\n",
    "diabetes_X_test = diabetes_X[-20:]\n",
    " \n",
    "# Split the targets into training/testing sets\n",
    "diabetes_y_train = diabetes.target[:-20]\n",
    "diabetes_y_test = diabetes.target[-20:]"
   ]
  },
  {
   "cell_type": "code",
   "execution_count": 123,
   "metadata": {
    "colab": {},
    "colab_type": "code",
    "id": "XJTg22ybcHsl"
   },
   "outputs": [],
   "source": [
    "# train\n",
    "X = diabetes_X_train\n",
    "y = diabetes_y_train\n",
    " \n",
    "# train: init\n",
    "W = np.random.rand(X.shape[1])\n",
    "b = np.random.rand(1)\n",
    " \n",
    "alpha = 0.0007\n",
    "epochs = 100000"
   ]
  },
  {
   "cell_type": "code",
   "execution_count": 120,
   "metadata": {},
   "outputs": [],
   "source": [
    "def mse(y,y_hat):\n",
    "    k=y-y_hat\n",
    "    k=k**2\n",
    "    return k.sum()/y.shape[0]    "
   ]
  },
  {
   "cell_type": "code",
   "execution_count": 124,
   "metadata": {},
   "outputs": [
    {
     "name": "stdout",
     "output_type": "stream",
     "text": [
      "Epoch 0: 29313.038216\n",
      "Epoch 5000: 2927.701775\n",
      "Epoch 10000: 2923.246969\n",
      "Epoch 15000: 2921.850482\n",
      "Epoch 20000: 2920.623115\n",
      "Epoch 25000: 2919.494951\n",
      "Epoch 30000: 2918.447795\n",
      "Epoch 35000: 2917.470234\n",
      "Epoch 40000: 2916.554288\n",
      "Epoch 45000: 2915.694059\n",
      "Epoch 50000: 2914.884954\n",
      "Epoch 55000: 2914.123216\n",
      "Epoch 60000: 2913.405646\n",
      "Epoch 65000: 2912.729427\n",
      "Epoch 70000: 2912.092024\n",
      "Epoch 75000: 2911.491120\n",
      "Epoch 80000: 2910.924572\n",
      "Epoch 85000: 2910.390383\n",
      "Epoch 90000: 2909.886686\n",
      "Epoch 95000: 2909.411729\n"
     ]
    }
   ],
   "source": [
    "# train: gradient descent\n",
    "for i in range(epochs):     \n",
    "    \n",
    "    # calculate predictions\n",
    "    y_hat=np.dot(X,W)+b\n",
    "    \n",
    "    # calculate error and cost (mean squared error)\n",
    "    mean_sq_error=mse(y,y_hat)\n",
    "    \n",
    "    # calculate gradients\n",
    "    dW=np.dot(X.T,(y-y_hat))\n",
    "    db=(y-y_hat).sum()\n",
    "    \n",
    "    # update parameters\n",
    "    W=W+alpha*dW\n",
    "    b=b+alpha*db\n",
    "    \n",
    "    # diagnostic output\n",
    "    if i % 5000 == 0: print(\"Epoch %d: %f\" % (i, mean_sq_error))"
   ]
  },
  {
   "cell_type": "code",
   "execution_count": 125,
   "metadata": {
    "colab": {},
    "colab_type": "code",
    "id": "uvSdTn-0cKJL"
   },
   "outputs": [
    {
     "name": "stdout",
     "output_type": "stream",
     "text": [
      "Coefficients: \n",
      " [   2.51824221 -235.60375339  516.25485217  326.07460654 -381.16504532\n",
      "  150.38912258  -92.93269468  126.45524351  581.77457768   78.17627171]\n",
      "Mean squared error: 1995.68\n",
      "========================================================================================================================\n"
     ]
    }
   ],
   "source": [
    "# test\n",
    "X = diabetes_X_test\n",
    "y = diabetes_y_test\n",
    " \n",
    "# calculate predictions + calculate error and cost (same code as above)\n",
    "y_pred=np.dot(X,W)+b\n",
    "mean_sq_error=mse(y,y_pred)\n",
    "\n",
    "print('Coefficients: \\n', W)\n",
    "print(\"Mean squared error: %.2f\" % mean_sq_error)\n",
    "print(\"=\"*120)"
   ]
  }
 ],
 "metadata": {
  "colab": {
   "name": "week1assignment.ipynb",
   "provenance": []
  },
  "kernelspec": {
   "display_name": "Python 3",
   "language": "python",
   "name": "python3"
  },
  "language_info": {
   "codemirror_mode": {
    "name": "ipython",
    "version": 3
   },
   "file_extension": ".py",
   "mimetype": "text/x-python",
   "name": "python",
   "nbconvert_exporter": "python",
   "pygments_lexer": "ipython3",
   "version": "3.7.6"
  }
 },
 "nbformat": 4,
 "nbformat_minor": 1
}
